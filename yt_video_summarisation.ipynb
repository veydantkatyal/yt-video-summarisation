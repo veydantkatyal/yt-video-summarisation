{
  "nbformat": 4,
  "nbformat_minor": 0,
  "metadata": {
    "colab": {
      "provenance": [],
      "authorship_tag": "ABX9TyNnywW6cIDhf9roJ8VeAfpg",
      "include_colab_link": true
    },
    "kernelspec": {
      "name": "python3",
      "display_name": "Python 3"
    },
    "language_info": {
      "name": "python"
    },
    "widgets": {
      "application/vnd.jupyter.widget-state+json": {
        "25b7d9b5b194451cb3b5281ac09094e5": {
          "model_module": "@jupyter-widgets/controls",
          "model_name": "VBoxModel",
          "model_module_version": "1.5.0",
          "state": {
            "_dom_classes": [],
            "_model_module": "@jupyter-widgets/controls",
            "_model_module_version": "1.5.0",
            "_model_name": "VBoxModel",
            "_view_count": null,
            "_view_module": "@jupyter-widgets/controls",
            "_view_module_version": "1.5.0",
            "_view_name": "VBoxView",
            "box_style": "",
            "children": [],
            "layout": "IPY_MODEL_921300fb7e9a4c0bb6e089d618c9297f"
          }
        },
        "592a93c5ad804d20b326244aabf8a5f0": {
          "model_module": "@jupyter-widgets/controls",
          "model_name": "HTMLModel",
          "model_module_version": "1.5.0",
          "state": {
            "_dom_classes": [],
            "_model_module": "@jupyter-widgets/controls",
            "_model_module_version": "1.5.0",
            "_model_name": "HTMLModel",
            "_view_count": null,
            "_view_module": "@jupyter-widgets/controls",
            "_view_module_version": "1.5.0",
            "_view_name": "HTMLView",
            "description": "",
            "description_tooltip": null,
            "layout": "IPY_MODEL_dc8b63a88ba049e6a41050fe660399d1",
            "placeholder": "​",
            "style": "IPY_MODEL_9105e0b143db4f739273e430fdbe8cee",
            "value": "<center> <img\nsrc=https://huggingface.co/front/assets/huggingface_logo-noborder.svg\nalt='Hugging Face'> <br> Copy a token from <a\nhref=\"https://huggingface.co/settings/tokens\" target=\"_blank\">your Hugging Face\ntokens page</a> and paste it below. <br> Immediately click login after copying\nyour token or it might be stored in plain text in this notebook file. </center>"
          }
        },
        "43b1585e9e8b40288b2b89ebd9e803ee": {
          "model_module": "@jupyter-widgets/controls",
          "model_name": "PasswordModel",
          "model_module_version": "1.5.0",
          "state": {
            "_dom_classes": [],
            "_model_module": "@jupyter-widgets/controls",
            "_model_module_version": "1.5.0",
            "_model_name": "PasswordModel",
            "_view_count": null,
            "_view_module": "@jupyter-widgets/controls",
            "_view_module_version": "1.5.0",
            "_view_name": "PasswordView",
            "continuous_update": true,
            "description": "Token:",
            "description_tooltip": null,
            "disabled": false,
            "layout": "IPY_MODEL_75a0670a9c354c64ba502a8f16abee18",
            "placeholder": "​",
            "style": "IPY_MODEL_4f3c8d948ebb4bf8ad2c798185555936",
            "value": ""
          }
        },
        "0acd3f21bcf547d8bb495223690f83b2": {
          "model_module": "@jupyter-widgets/controls",
          "model_name": "CheckboxModel",
          "model_module_version": "1.5.0",
          "state": {
            "_dom_classes": [],
            "_model_module": "@jupyter-widgets/controls",
            "_model_module_version": "1.5.0",
            "_model_name": "CheckboxModel",
            "_view_count": null,
            "_view_module": "@jupyter-widgets/controls",
            "_view_module_version": "1.5.0",
            "_view_name": "CheckboxView",
            "description": "Add token as git credential?",
            "description_tooltip": null,
            "disabled": false,
            "indent": true,
            "layout": "IPY_MODEL_be8fd0a0dbb34d3a932f15b9f66b2043",
            "style": "IPY_MODEL_217ec0656fa24170b8596532f1e12617",
            "value": true
          }
        },
        "24c562118fde48c29fe15bab8b0a262a": {
          "model_module": "@jupyter-widgets/controls",
          "model_name": "ButtonModel",
          "model_module_version": "1.5.0",
          "state": {
            "_dom_classes": [],
            "_model_module": "@jupyter-widgets/controls",
            "_model_module_version": "1.5.0",
            "_model_name": "ButtonModel",
            "_view_count": null,
            "_view_module": "@jupyter-widgets/controls",
            "_view_module_version": "1.5.0",
            "_view_name": "ButtonView",
            "button_style": "",
            "description": "Login",
            "disabled": false,
            "icon": "",
            "layout": "IPY_MODEL_287c0f0df66349948859cd6862f003e1",
            "style": "IPY_MODEL_437dcd920e184725b224c0225795352b",
            "tooltip": ""
          }
        },
        "eafbf2bcbcc4420ab7b64d0d89f0de63": {
          "model_module": "@jupyter-widgets/controls",
          "model_name": "HTMLModel",
          "model_module_version": "1.5.0",
          "state": {
            "_dom_classes": [],
            "_model_module": "@jupyter-widgets/controls",
            "_model_module_version": "1.5.0",
            "_model_name": "HTMLModel",
            "_view_count": null,
            "_view_module": "@jupyter-widgets/controls",
            "_view_module_version": "1.5.0",
            "_view_name": "HTMLView",
            "description": "",
            "description_tooltip": null,
            "layout": "IPY_MODEL_033af1e0a56e4b6fb70dce9203632055",
            "placeholder": "​",
            "style": "IPY_MODEL_977ecf692db14dc8a0f5c0880fdef6e1",
            "value": "\n<b>Pro Tip:</b> If you don't already have one, you can create a dedicated\n'notebooks' token with 'write' access, that you can then easily reuse for all\nnotebooks. </center>"
          }
        },
        "921300fb7e9a4c0bb6e089d618c9297f": {
          "model_module": "@jupyter-widgets/base",
          "model_name": "LayoutModel",
          "model_module_version": "1.2.0",
          "state": {
            "_model_module": "@jupyter-widgets/base",
            "_model_module_version": "1.2.0",
            "_model_name": "LayoutModel",
            "_view_count": null,
            "_view_module": "@jupyter-widgets/base",
            "_view_module_version": "1.2.0",
            "_view_name": "LayoutView",
            "align_content": null,
            "align_items": "center",
            "align_self": null,
            "border": null,
            "bottom": null,
            "display": "flex",
            "flex": null,
            "flex_flow": "column",
            "grid_area": null,
            "grid_auto_columns": null,
            "grid_auto_flow": null,
            "grid_auto_rows": null,
            "grid_column": null,
            "grid_gap": null,
            "grid_row": null,
            "grid_template_areas": null,
            "grid_template_columns": null,
            "grid_template_rows": null,
            "height": null,
            "justify_content": null,
            "justify_items": null,
            "left": null,
            "margin": null,
            "max_height": null,
            "max_width": null,
            "min_height": null,
            "min_width": null,
            "object_fit": null,
            "object_position": null,
            "order": null,
            "overflow": null,
            "overflow_x": null,
            "overflow_y": null,
            "padding": null,
            "right": null,
            "top": null,
            "visibility": null,
            "width": "50%"
          }
        },
        "dc8b63a88ba049e6a41050fe660399d1": {
          "model_module": "@jupyter-widgets/base",
          "model_name": "LayoutModel",
          "model_module_version": "1.2.0",
          "state": {
            "_model_module": "@jupyter-widgets/base",
            "_model_module_version": "1.2.0",
            "_model_name": "LayoutModel",
            "_view_count": null,
            "_view_module": "@jupyter-widgets/base",
            "_view_module_version": "1.2.0",
            "_view_name": "LayoutView",
            "align_content": null,
            "align_items": null,
            "align_self": null,
            "border": null,
            "bottom": null,
            "display": null,
            "flex": null,
            "flex_flow": null,
            "grid_area": null,
            "grid_auto_columns": null,
            "grid_auto_flow": null,
            "grid_auto_rows": null,
            "grid_column": null,
            "grid_gap": null,
            "grid_row": null,
            "grid_template_areas": null,
            "grid_template_columns": null,
            "grid_template_rows": null,
            "height": null,
            "justify_content": null,
            "justify_items": null,
            "left": null,
            "margin": null,
            "max_height": null,
            "max_width": null,
            "min_height": null,
            "min_width": null,
            "object_fit": null,
            "object_position": null,
            "order": null,
            "overflow": null,
            "overflow_x": null,
            "overflow_y": null,
            "padding": null,
            "right": null,
            "top": null,
            "visibility": null,
            "width": null
          }
        },
        "9105e0b143db4f739273e430fdbe8cee": {
          "model_module": "@jupyter-widgets/controls",
          "model_name": "DescriptionStyleModel",
          "model_module_version": "1.5.0",
          "state": {
            "_model_module": "@jupyter-widgets/controls",
            "_model_module_version": "1.5.0",
            "_model_name": "DescriptionStyleModel",
            "_view_count": null,
            "_view_module": "@jupyter-widgets/base",
            "_view_module_version": "1.2.0",
            "_view_name": "StyleView",
            "description_width": ""
          }
        },
        "75a0670a9c354c64ba502a8f16abee18": {
          "model_module": "@jupyter-widgets/base",
          "model_name": "LayoutModel",
          "model_module_version": "1.2.0",
          "state": {
            "_model_module": "@jupyter-widgets/base",
            "_model_module_version": "1.2.0",
            "_model_name": "LayoutModel",
            "_view_count": null,
            "_view_module": "@jupyter-widgets/base",
            "_view_module_version": "1.2.0",
            "_view_name": "LayoutView",
            "align_content": null,
            "align_items": null,
            "align_self": null,
            "border": null,
            "bottom": null,
            "display": null,
            "flex": null,
            "flex_flow": null,
            "grid_area": null,
            "grid_auto_columns": null,
            "grid_auto_flow": null,
            "grid_auto_rows": null,
            "grid_column": null,
            "grid_gap": null,
            "grid_row": null,
            "grid_template_areas": null,
            "grid_template_columns": null,
            "grid_template_rows": null,
            "height": null,
            "justify_content": null,
            "justify_items": null,
            "left": null,
            "margin": null,
            "max_height": null,
            "max_width": null,
            "min_height": null,
            "min_width": null,
            "object_fit": null,
            "object_position": null,
            "order": null,
            "overflow": null,
            "overflow_x": null,
            "overflow_y": null,
            "padding": null,
            "right": null,
            "top": null,
            "visibility": null,
            "width": null
          }
        },
        "4f3c8d948ebb4bf8ad2c798185555936": {
          "model_module": "@jupyter-widgets/controls",
          "model_name": "DescriptionStyleModel",
          "model_module_version": "1.5.0",
          "state": {
            "_model_module": "@jupyter-widgets/controls",
            "_model_module_version": "1.5.0",
            "_model_name": "DescriptionStyleModel",
            "_view_count": null,
            "_view_module": "@jupyter-widgets/base",
            "_view_module_version": "1.2.0",
            "_view_name": "StyleView",
            "description_width": ""
          }
        },
        "be8fd0a0dbb34d3a932f15b9f66b2043": {
          "model_module": "@jupyter-widgets/base",
          "model_name": "LayoutModel",
          "model_module_version": "1.2.0",
          "state": {
            "_model_module": "@jupyter-widgets/base",
            "_model_module_version": "1.2.0",
            "_model_name": "LayoutModel",
            "_view_count": null,
            "_view_module": "@jupyter-widgets/base",
            "_view_module_version": "1.2.0",
            "_view_name": "LayoutView",
            "align_content": null,
            "align_items": null,
            "align_self": null,
            "border": null,
            "bottom": null,
            "display": null,
            "flex": null,
            "flex_flow": null,
            "grid_area": null,
            "grid_auto_columns": null,
            "grid_auto_flow": null,
            "grid_auto_rows": null,
            "grid_column": null,
            "grid_gap": null,
            "grid_row": null,
            "grid_template_areas": null,
            "grid_template_columns": null,
            "grid_template_rows": null,
            "height": null,
            "justify_content": null,
            "justify_items": null,
            "left": null,
            "margin": null,
            "max_height": null,
            "max_width": null,
            "min_height": null,
            "min_width": null,
            "object_fit": null,
            "object_position": null,
            "order": null,
            "overflow": null,
            "overflow_x": null,
            "overflow_y": null,
            "padding": null,
            "right": null,
            "top": null,
            "visibility": null,
            "width": null
          }
        },
        "217ec0656fa24170b8596532f1e12617": {
          "model_module": "@jupyter-widgets/controls",
          "model_name": "DescriptionStyleModel",
          "model_module_version": "1.5.0",
          "state": {
            "_model_module": "@jupyter-widgets/controls",
            "_model_module_version": "1.5.0",
            "_model_name": "DescriptionStyleModel",
            "_view_count": null,
            "_view_module": "@jupyter-widgets/base",
            "_view_module_version": "1.2.0",
            "_view_name": "StyleView",
            "description_width": ""
          }
        },
        "287c0f0df66349948859cd6862f003e1": {
          "model_module": "@jupyter-widgets/base",
          "model_name": "LayoutModel",
          "model_module_version": "1.2.0",
          "state": {
            "_model_module": "@jupyter-widgets/base",
            "_model_module_version": "1.2.0",
            "_model_name": "LayoutModel",
            "_view_count": null,
            "_view_module": "@jupyter-widgets/base",
            "_view_module_version": "1.2.0",
            "_view_name": "LayoutView",
            "align_content": null,
            "align_items": null,
            "align_self": null,
            "border": null,
            "bottom": null,
            "display": null,
            "flex": null,
            "flex_flow": null,
            "grid_area": null,
            "grid_auto_columns": null,
            "grid_auto_flow": null,
            "grid_auto_rows": null,
            "grid_column": null,
            "grid_gap": null,
            "grid_row": null,
            "grid_template_areas": null,
            "grid_template_columns": null,
            "grid_template_rows": null,
            "height": null,
            "justify_content": null,
            "justify_items": null,
            "left": null,
            "margin": null,
            "max_height": null,
            "max_width": null,
            "min_height": null,
            "min_width": null,
            "object_fit": null,
            "object_position": null,
            "order": null,
            "overflow": null,
            "overflow_x": null,
            "overflow_y": null,
            "padding": null,
            "right": null,
            "top": null,
            "visibility": null,
            "width": null
          }
        },
        "437dcd920e184725b224c0225795352b": {
          "model_module": "@jupyter-widgets/controls",
          "model_name": "ButtonStyleModel",
          "model_module_version": "1.5.0",
          "state": {
            "_model_module": "@jupyter-widgets/controls",
            "_model_module_version": "1.5.0",
            "_model_name": "ButtonStyleModel",
            "_view_count": null,
            "_view_module": "@jupyter-widgets/base",
            "_view_module_version": "1.2.0",
            "_view_name": "StyleView",
            "button_color": null,
            "font_weight": ""
          }
        },
        "033af1e0a56e4b6fb70dce9203632055": {
          "model_module": "@jupyter-widgets/base",
          "model_name": "LayoutModel",
          "model_module_version": "1.2.0",
          "state": {
            "_model_module": "@jupyter-widgets/base",
            "_model_module_version": "1.2.0",
            "_model_name": "LayoutModel",
            "_view_count": null,
            "_view_module": "@jupyter-widgets/base",
            "_view_module_version": "1.2.0",
            "_view_name": "LayoutView",
            "align_content": null,
            "align_items": null,
            "align_self": null,
            "border": null,
            "bottom": null,
            "display": null,
            "flex": null,
            "flex_flow": null,
            "grid_area": null,
            "grid_auto_columns": null,
            "grid_auto_flow": null,
            "grid_auto_rows": null,
            "grid_column": null,
            "grid_gap": null,
            "grid_row": null,
            "grid_template_areas": null,
            "grid_template_columns": null,
            "grid_template_rows": null,
            "height": null,
            "justify_content": null,
            "justify_items": null,
            "left": null,
            "margin": null,
            "max_height": null,
            "max_width": null,
            "min_height": null,
            "min_width": null,
            "object_fit": null,
            "object_position": null,
            "order": null,
            "overflow": null,
            "overflow_x": null,
            "overflow_y": null,
            "padding": null,
            "right": null,
            "top": null,
            "visibility": null,
            "width": null
          }
        },
        "977ecf692db14dc8a0f5c0880fdef6e1": {
          "model_module": "@jupyter-widgets/controls",
          "model_name": "DescriptionStyleModel",
          "model_module_version": "1.5.0",
          "state": {
            "_model_module": "@jupyter-widgets/controls",
            "_model_module_version": "1.5.0",
            "_model_name": "DescriptionStyleModel",
            "_view_count": null,
            "_view_module": "@jupyter-widgets/base",
            "_view_module_version": "1.2.0",
            "_view_name": "StyleView",
            "description_width": ""
          }
        },
        "6542f4f738ce490ab48fdb636060c4e0": {
          "model_module": "@jupyter-widgets/controls",
          "model_name": "LabelModel",
          "model_module_version": "1.5.0",
          "state": {
            "_dom_classes": [],
            "_model_module": "@jupyter-widgets/controls",
            "_model_module_version": "1.5.0",
            "_model_name": "LabelModel",
            "_view_count": null,
            "_view_module": "@jupyter-widgets/controls",
            "_view_module_version": "1.5.0",
            "_view_name": "LabelView",
            "description": "",
            "description_tooltip": null,
            "layout": "IPY_MODEL_4dd1212560564bb4aa6c51853d4a2ed8",
            "placeholder": "​",
            "style": "IPY_MODEL_b1b7d69a99e44a83bb0b4f0c343a7161",
            "value": "Connecting..."
          }
        },
        "4dd1212560564bb4aa6c51853d4a2ed8": {
          "model_module": "@jupyter-widgets/base",
          "model_name": "LayoutModel",
          "model_module_version": "1.2.0",
          "state": {
            "_model_module": "@jupyter-widgets/base",
            "_model_module_version": "1.2.0",
            "_model_name": "LayoutModel",
            "_view_count": null,
            "_view_module": "@jupyter-widgets/base",
            "_view_module_version": "1.2.0",
            "_view_name": "LayoutView",
            "align_content": null,
            "align_items": null,
            "align_self": null,
            "border": null,
            "bottom": null,
            "display": null,
            "flex": null,
            "flex_flow": null,
            "grid_area": null,
            "grid_auto_columns": null,
            "grid_auto_flow": null,
            "grid_auto_rows": null,
            "grid_column": null,
            "grid_gap": null,
            "grid_row": null,
            "grid_template_areas": null,
            "grid_template_columns": null,
            "grid_template_rows": null,
            "height": null,
            "justify_content": null,
            "justify_items": null,
            "left": null,
            "margin": null,
            "max_height": null,
            "max_width": null,
            "min_height": null,
            "min_width": null,
            "object_fit": null,
            "object_position": null,
            "order": null,
            "overflow": null,
            "overflow_x": null,
            "overflow_y": null,
            "padding": null,
            "right": null,
            "top": null,
            "visibility": null,
            "width": null
          }
        },
        "b1b7d69a99e44a83bb0b4f0c343a7161": {
          "model_module": "@jupyter-widgets/controls",
          "model_name": "DescriptionStyleModel",
          "model_module_version": "1.5.0",
          "state": {
            "_model_module": "@jupyter-widgets/controls",
            "_model_module_version": "1.5.0",
            "_model_name": "DescriptionStyleModel",
            "_view_count": null,
            "_view_module": "@jupyter-widgets/base",
            "_view_module_version": "1.2.0",
            "_view_name": "StyleView",
            "description_width": ""
          }
        }
      }
    }
  },
  "cells": [
    {
      "cell_type": "markdown",
      "metadata": {
        "id": "view-in-github",
        "colab_type": "text"
      },
      "source": [
        "<a href=\"https://colab.research.google.com/github/veydantkatyal/yt-video-summarisation/blob/main/yt_video_summarisation.ipynb\" target=\"_parent\"><img src=\"https://colab.research.google.com/assets/colab-badge.svg\" alt=\"Open In Colab\"/></a>"
      ]
    },
    {
      "cell_type": "markdown",
      "source": [
        "# **INSTALL DEPENDENCIES & IMPORT LIBRARIES**"
      ],
      "metadata": {
        "id": "5puBFa1HMAzc"
      }
    },
    {
      "cell_type": "code",
      "execution_count": null,
      "metadata": {
        "id": "fYlaVApXLjxs"
      },
      "outputs": [],
      "source": [
        "!pip install -q requests torch bitsandbytes transformers accelerate gradio sentencepiece yt-dlp datasets[audio] groq python-dotenv"
      ]
    },
    {
      "cell_type": "code",
      "source": [
        "#Integrating GRADIO to Youtube Video Summary\n",
        "#we will use the Whisper-1 Model for audio to text + Groq\n",
        "#we will use the \"meta-llama/Meta-Llama-3.1-8B-8192\" for summary task\n",
        "#Finally integrate this in Gradio UI"
      ],
      "metadata": {
        "id": "7w8nr2IPL78p"
      },
      "execution_count": null,
      "outputs": []
    },
    {
      "cell_type": "code",
      "source": [
        "from groq import Groq\n",
        "import requests\n",
        "from dotenv import load_dotenv\n",
        "import os\n",
        "from huggingface_hub import login\n",
        "from transformers import AutoTokenizer, AutoModelForCausalLM, TextStreamer, BitsAndBytesConfig, AutoModelForSpeechSeq2Seq, AutoProcessor, pipeline\n",
        "import gradio as gr\n",
        "import torch\n",
        "import requests\n",
        "from IPython.display import Markdown, display, update_display\n",
        "import numpy as np\n",
        "import re\n",
        "import yt_dlp\n",
        "from datasets import load_dataset"
      ],
      "metadata": {
        "id": "yq05WyZNL757"
      },
      "execution_count": null,
      "outputs": []
    },
    {
      "cell_type": "markdown",
      "source": [
        "# **ACCESS HF & GROQ API KEYS**"
      ],
      "metadata": {
        "id": "NAkVai_zQZnj"
      }
    },
    {
      "cell_type": "code",
      "source": [
        "# Get HF API token\n",
        "hf_token = os.getenv('HF_TOKEN')\n",
        "login(hf_token, add_to_git_credential=True)\n",
        "# Get GROQ API key\n",
        "load_dotenv()\n",
        "groq_api_key = os.getenv('GROQ_API_KEY')"
      ],
      "metadata": {
        "colab": {
          "base_uri": "https://localhost:8080/",
          "height": 17,
          "referenced_widgets": [
            "25b7d9b5b194451cb3b5281ac09094e5",
            "592a93c5ad804d20b326244aabf8a5f0",
            "43b1585e9e8b40288b2b89ebd9e803ee",
            "0acd3f21bcf547d8bb495223690f83b2",
            "24c562118fde48c29fe15bab8b0a262a",
            "eafbf2bcbcc4420ab7b64d0d89f0de63",
            "921300fb7e9a4c0bb6e089d618c9297f",
            "dc8b63a88ba049e6a41050fe660399d1",
            "9105e0b143db4f739273e430fdbe8cee",
            "75a0670a9c354c64ba502a8f16abee18",
            "4f3c8d948ebb4bf8ad2c798185555936",
            "be8fd0a0dbb34d3a932f15b9f66b2043",
            "217ec0656fa24170b8596532f1e12617",
            "287c0f0df66349948859cd6862f003e1",
            "437dcd920e184725b224c0225795352b",
            "033af1e0a56e4b6fb70dce9203632055",
            "977ecf692db14dc8a0f5c0880fdef6e1",
            "6542f4f738ce490ab48fdb636060c4e0",
            "4dd1212560564bb4aa6c51853d4a2ed8",
            "b1b7d69a99e44a83bb0b4f0c343a7161"
          ]
        },
        "id": "YXS8Q0S2L73G",
        "outputId": "9e712cbb-1636-4717-957b-5a1ac11fa8f1"
      },
      "execution_count": null,
      "outputs": [
        {
          "output_type": "display_data",
          "data": {
            "text/plain": [
              "VBox(children=(HTML(value='<center> <img\\nsrc=https://huggingface.co/front/assets/huggingface_logo-noborder.sv…"
            ],
            "application/vnd.jupyter.widget-view+json": {
              "version_major": 2,
              "version_minor": 0,
              "model_id": "25b7d9b5b194451cb3b5281ac09094e5"
            }
          },
          "metadata": {}
        }
      ]
    },
    {
      "cell_type": "code",
      "source": [
        "from transformers import AutoModelForSpeechSeq2Seq, AutoProcessor, pipeline\n"
      ],
      "metadata": {
        "id": "ljMc0M6CMc5r"
      },
      "execution_count": null,
      "outputs": []
    },
    {
      "cell_type": "markdown",
      "source": [
        "# **PRE-PROCESS YT VIDEOS**"
      ],
      "metadata": {
        "id": "dHdwGq0aQg4O"
      }
    },
    {
      "cell_type": "code",
      "source": [
        "#Extracting Audio from Ytube url\n",
        "def download_audio(url):\n",
        "\n",
        "  ydl_opts = {\n",
        "      'format': 'bestaudio/best',\n",
        "      'postprocessors': [{\n",
        "          'key': 'FFmpegExtractAudio',\n",
        "          'preferredcodec': 'mp3',\n",
        "      }],\n",
        "      'outtmpl': 'audio_file.%(ext)s'  # This sets the output filename\n",
        "  }\n",
        "\n",
        "  with yt_dlp.YoutubeDL(ydl_opts) as ydl:\n",
        "      ydl.download([url])\n",
        "\n",
        "      return 'audio_file.mp3'"
      ],
      "metadata": {
        "id": "qg5BR-U2MhHm"
      },
      "execution_count": null,
      "outputs": []
    },
    {
      "cell_type": "code",
      "source": [
        "#To handle large audio files >30 min we need a different approach\n",
        "#we need to split the audio in smaller files and process each chunk separately\n",
        "from pydub import AudioSegment #handle audio splitting\n",
        "import math\n",
        "import tempfile\n",
        "\n",
        "def split_audio_file(audio_file_path,chunk_length_ms=10*60*1000): #10-minute chunks\n",
        "    #\"\"Split the audio files into chunks of specified lenght\"\"\n",
        "    audio = AudioSegment.from_mp3(audio_file_path)\n",
        "    chunks = []\n",
        "\n",
        "    #Calculate how many chunks we need\n",
        "    total_length_ms = len(audio)\n",
        "    num_chunks = math.ceil(total_length_ms/chunk_length_ms) #round-up numbers\n",
        "\n",
        "    #Create a temporary directory to store chunks\n",
        "    #temp_dir = temp_dir.mkdtemp()\n",
        "    temp_dir = tempfile.mkdtemp()\n",
        "    print(f\"Created temporary directory: {temp_dir}\")\n",
        "\n",
        "    for i in range(num_chunks):\n",
        "        start_ms= i*chunk_length_ms\n",
        "        end_ms=min((i+1)* chunk_length_ms , total_length_ms) # handle the remaining portion of the audio\n",
        "\n",
        "        chunk = audio[start_ms:end_ms]\n",
        "        chunk_path = os.path.join(temp_dir,f\"chunk_{i}.mp3\")\n",
        "        #chunk_export = (chunk_path, format==\"mp3\")\n",
        "        chunk.export(chunk_path, format=\"mp3\")\n",
        "        chunks.append(chunk_path)\n",
        "    return chunks,temp_dir"
      ],
      "metadata": {
        "id": "EZ35Di0uN9p5"
      },
      "execution_count": null,
      "outputs": []
    },
    {
      "cell_type": "markdown",
      "source": [
        "# **TRANSCRIPT ANALYSIS WITH QROQ**"
      ],
      "metadata": {
        "id": "JrGLwQhsQq_2"
      }
    },
    {
      "cell_type": "code",
      "source": [
        "#Function to use Groq's API for transcription for chunks files\n",
        "def groq_transcribe_chunk(audio_chunk_path):\n",
        "    url = \"https://api.groq.com/openai/v1/audio/transcriptions\"\n",
        "\n",
        "    headers = {\n",
        "        \"Authorization\": f\"Bearer {groq_api_key}\"\n",
        "    }\n",
        "\n",
        "    with open(audio_chunk_path, \"rb\") as audio_file:\n",
        "        files={\n",
        "            \"file\":(\"audio.mp3\",audio_file,\"audio/mpeg\")\n",
        "        }\n",
        "        data ={\n",
        "            \"model\":\"whisper-large-v3-turbo\",\n",
        "            \"response_format\":\"text\"\n",
        "        }\n",
        "\n",
        "        response = requests.post(url, headers=headers, files=files, data=data)\n",
        "\n",
        "        if response.status_code == 200:\n",
        "            return response.text\n",
        "        else:\n",
        "            raise Exception(f\"Groq API Error: {response.status_code} - {response.text}\")"
      ],
      "metadata": {
        "id": "OCUu-oJ-N_-X"
      },
      "execution_count": null,
      "outputs": []
    },
    {
      "cell_type": "markdown",
      "source": [
        "# **SUMMARY LOGIC**"
      ],
      "metadata": {
        "id": "SNQCcqQ1QvCN"
      }
    },
    {
      "cell_type": "code",
      "source": [
        "#Transcribe and summarize actions\n",
        "def transcribe(url):\n",
        "    try:\n",
        "        #Step 1: Download audio and transcribe using Groq\n",
        "        print(\"Downloading audio from YouTube...\")\n",
        "        audio_path=download_audio(url)\n",
        "\n",
        "        #Step 2: Split the audio into chunks\n",
        "        print(\"Splitting audio into chunks...\")\n",
        "        #chunks = split_audio_file(audio_path)\n",
        "        chunks,temp_dir = split_audio_file(audio_path)\n",
        "\n",
        "        #Step 3: Transcribe each chunk\n",
        "        print(f\"Transcribing {len(chunks)} chunks...\")\n",
        "\n",
        "        full_transcript =\"\"\n",
        "\n",
        "        for i, chunk_path in enumerate(chunks):\n",
        "            print(f\"Transcribing chunk {i+1}/{len(chunks)}...\")\n",
        "            chunk_transcript = groq_transcribe_chunk(chunk_path)\n",
        "            full_transcript += chunk_transcript + \" \"\n",
        "\n",
        "            #Delete the chunk file after processing\n",
        "            os.remove(chunk_path)\n",
        "\n",
        "        #Clean up - remove the temp directory and the original audio file\n",
        "        #os.rmdir(os.path.dirname(chunks[0])) #remove temp directory\n",
        "        os.rmdir(temp_dir)  # Remove temp directory\n",
        "        os.remove(audio_path) #remove original audio file\n",
        "\n",
        "        print(f\"*** Full transcript here: {full_transcript.strip()}\")\n",
        "\n",
        "        #Step 4:Summarize\n",
        "        system_prompt = \"\"\"\n",
        "\n",
        "        You are a specialized summarization assistant designed to create accurate, informative summaries from audio transcripts. Your primary goal is to extract and organize key information without adding, distorting, or fabricating any content.\n",
        "\n",
        "        ## Core Guidelines\n",
        "\n",
        "        1. **Only use information explicitly present in the transcript**. Do not add interpretations, assumptions, or information not directly stated.\n",
        "        2. **Maintain factual accuracy** at all times. If something is ambiguous or unclear in the transcript, acknowledge the uncertainty rather than making assumptions.\n",
        "        3. **Preserve the original meaning and intent** of the speakers.\n",
        "        4. **Use direct quotes** when appropriate to maintain accuracy.\n",
        "\n",
        "        ## Required Summary Structure\n",
        "\n",
        "        Your summary must include the following sections in this order:\n",
        "\n",
        "        1. **Title**: Extract or derive the title directly from the transcript. If no explicit title is mentioned, create a concise, descriptive title based solely on the main topic discussed.\n",
        "\n",
        "        2. **Main Topic**: A 1-2 sentence description of the central subject being discussed.\n",
        "\n",
        "        3. **Participants**: Only include this section if speakers are clearly identified in the transcript. List all participants mentioned by name or role.\n",
        "\n",
        "        4. **Discussion Points**: Outline the key topics covered in the conversation in chronological order. Use bullet points for clarity.\n",
        "\n",
        "        5. **Highlights**: List 3-5 notable moments, quotes, or insights from the transcript. These should be direct references to content in the transcript.\n",
        "\n",
        "        6. **Action Points**: Only include this section if specific actions, tasks, or next steps are mentioned in the transcript. List each action item with any associated responsibility or deadline if mentioned.\n",
        "\n",
        "        7. **Key Takeaways**: Summarize 3-5 main conclusions or important insights from the discussion. These must be directly derived from the transcript content.\n",
        "\n",
        "        ## Error Prevention Protocol\n",
        "\n",
        "        - If information for any required section is not present in the transcript, explicitly state \"No [section name] mentioned in the transcript\" rather than fabricating content.\n",
        "        - If uncertain about any information, indicate this with phrases like \"possibly\" or \"appears to be\" rather than stating as fact.\n",
        "        - Double-check all names, numbers, dates, and technical terms against the transcript.\n",
        "\n",
        "\n",
        "        ``\n",
        "        Remember: Your primary responsibility is to maintain the integrity of the original content. When in doubt, prioritize accuracy over comprehensiveness.\n",
        "        \"\"\"\n",
        "\n",
        "        user_prompt = f\"Below is an extract transcript of youtube video. Write summary in markdown of the whole text: \\n{full_transcript.strip()}\"\n",
        "\n",
        "\n",
        "         # Create the chat completion using Groq's API\n",
        "        chat_completion = groq.chat.completions.create(\n",
        "            model=\"llama3-8b-8192\",\n",
        "            messages =[\n",
        "            {\"role\":\"system\", \"content\":system_prompt},\n",
        "            {\"role\":\"user\", \"content\":user_prompt}\n",
        "        ],\n",
        "        max_tokens=8000     #this depends on the model\n",
        "        )\n",
        "\n",
        "        # Extract the assistant's response\n",
        "        assistant_response = chat_completion.choices[0].message.content\n",
        "\n",
        "        return assistant_response\n",
        "    except Exception as e:\n",
        "        return f\"Error: {e}\""
      ],
      "metadata": {
        "id": "eDawE8uOOKBP"
      },
      "execution_count": null,
      "outputs": []
    },
    {
      "cell_type": "markdown",
      "source": [
        "# **GRADIO UI**"
      ],
      "metadata": {
        "id": "b2nMqGIAQ0FS"
      }
    },
    {
      "cell_type": "code",
      "source": [
        "#Adding Gradio GUI\n",
        "demo = gr.Interface(\n",
        "    fn=transcribe,\n",
        "    inputs=gr.Textbox(\n",
        "        label = \"Youtube URL\",\n",
        "        placeholder = \"Enter Youtube video URL here..\",\n",
        "        lines=1\n",
        "    ),\n",
        "\n",
        "    outputs=gr.Markdown(label=\"Video Summary\", min_height=60),\n",
        "    title=\"YouTube video summary\",\n",
        "    description=\"Enter a YouTube URL to get the summary. This process may take a few minutes.\",\n",
        "    flagging_mode=\"never\"\n",
        ")\n",
        "\n",
        "demo.launch(inbrowser=True)"
      ],
      "metadata": {
        "colab": {
          "base_uri": "https://localhost:8080/",
          "height": 645
        },
        "id": "KwS64WigOL3l",
        "outputId": "b239a8ca-6075-4a4a-be20-7e94442f9e45"
      },
      "execution_count": null,
      "outputs": [
        {
          "output_type": "stream",
          "name": "stdout",
          "text": [
            "Running Gradio in a Colab notebook requires sharing enabled. Automatically setting `share=True` (you can turn this off by setting `share=False` in `launch()` explicitly).\n",
            "\n",
            "Colab notebook detected. To show errors in colab notebook, set debug=True in launch()\n",
            "* Running on public URL: https://561c119d55ab6fe6a6.gradio.live\n",
            "\n",
            "This share link expires in 72 hours. For free permanent hosting and GPU upgrades, run `gradio deploy` from the terminal in the working directory to deploy to Hugging Face Spaces (https://huggingface.co/spaces)\n"
          ]
        },
        {
          "output_type": "display_data",
          "data": {
            "text/plain": [
              "<IPython.core.display.HTML object>"
            ],
            "text/html": [
              "<div><iframe src=\"https://561c119d55ab6fe6a6.gradio.live\" width=\"100%\" height=\"500\" allow=\"autoplay; camera; microphone; clipboard-read; clipboard-write;\" frameborder=\"0\" allowfullscreen></iframe></div>"
            ]
          },
          "metadata": {}
        },
        {
          "output_type": "execute_result",
          "data": {
            "text/plain": []
          },
          "metadata": {},
          "execution_count": 32
        }
      ]
    }
  ]
}